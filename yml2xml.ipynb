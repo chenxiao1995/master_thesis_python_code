{
 "cells": [
  {
   "cell_type": "code",
   "execution_count": 5,
   "metadata": {},
   "outputs": [],
   "source": [
    "from xml.dom.minidom import Document,parseString\n",
    "from xml.etree.ElementTree import Element, SubElement, tostring\n",
    "from dicttoxml import dicttoxml\n",
    "import glob\n",
    "import yaml"
   ]
  },
  {
   "cell_type": "code",
   "execution_count": 1,
   "metadata": {
    "scrolled": true
   },
   "outputs": [
    {
     "data": {
      "text/plain": [
       "'/Users/xiao/Desktop/reference_dataset'"
      ]
     },
     "execution_count": 1,
     "metadata": {},
     "output_type": "execute_result"
    }
   ],
   "source": [
    "pwd"
   ]
  },
  {
   "cell_type": "code",
   "execution_count": 6,
   "metadata": {},
   "outputs": [
    {
     "data": {
      "text/plain": [
       "[]"
      ]
     },
     "execution_count": 6,
     "metadata": {},
     "output_type": "execute_result"
    }
   ],
   "source": [
    "glob.glob('../*.yml')"
   ]
  },
  {
   "cell_type": "code",
   "execution_count": 9,
   "metadata": {},
   "outputs": [],
   "source": [
    "anno_yaml_pfad='/Users/xiao/Desktop/reference_dataset/Annotation/yaml/Annotations_RGB_TestSet2/'\n",
    "anno_xml_pfad='/Users/xiao/Desktop/reference_dataset/Annotation/xml/Annotations_RGB_TestSet2/'"
   ]
  },
  {
   "cell_type": "code",
   "execution_count": 10,
   "metadata": {},
   "outputs": [
    {
     "name": "stderr",
     "output_type": "stream",
     "text": [
      "/Users/xiao/miniconda3/lib/python3.7/site-packages/ipykernel_launcher.py:4: YAMLLoadWarning: calling yaml.load() without Loader=... is deprecated, as the default Loader is unsafe. Please read https://msg.pyyaml.org/load for full details.\n",
      "  after removing the cwd from sys.path.\n"
     ]
    }
   ],
   "source": [
    "for files in glob.glob('/Users/xiao/Desktop/reference_dataset/Annotation/yaml/Annotations_RGB_TestSet2/*.yml'):\n",
    "# Read the YAML file\n",
    "    with open(files) as inf:\n",
    "      root=yaml.load(inf)\n",
    "      xml=dicttoxml(root)\n",
    "      dom = parseString(xml)\n",
    "      dom2prettyxml=dom.toprettyxml()\n",
    "\n",
    "# Output back XML\n",
    "    with open(anno_xml_pfad+files.split('/')[-1][:-3] + \"xml\", \"w\") as outf:\n",
    "      #xmlplain.xml_from_obj(root, outf, pretty=True)\n",
    "      outf.write(dom2prettyxml)\n",
    "      outf.close"
   ]
  },
  {
   "cell_type": "code",
   "execution_count": null,
   "metadata": {},
   "outputs": [],
   "source": []
  }
 ],
 "metadata": {
  "kernelspec": {
   "display_name": "Python 3",
   "language": "python",
   "name": "python3"
  },
  "language_info": {
   "codemirror_mode": {
    "name": "ipython",
    "version": 3
   },
   "file_extension": ".py",
   "mimetype": "text/x-python",
   "name": "python",
   "nbconvert_exporter": "python",
   "pygments_lexer": "ipython3",
   "version": "3.7.3"
  }
 },
 "nbformat": 4,
 "nbformat_minor": 2
}
